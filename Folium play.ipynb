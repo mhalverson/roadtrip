{
 "cells": [
  {
   "cell_type": "code",
   "execution_count": 1,
   "metadata": {
    "scrolled": false
   },
   "outputs": [
    {
     "name": "stdout",
     "output_type": "stream",
     "text": [
      "[(datetime.date(2018, 5, 2), 'Car battery died'),\n",
      " (datetime.date(2018, 5, 12), 'O Henry Pun Off'),\n",
      " (datetime.date(2018, 5, 27), 'Bumping into Laurel and Andy in Savannah'),\n",
      " (datetime.date(2018, 5, 29),\n",
      "  'After only two days, we are absolutely filthy from the Congaree'),\n",
      " (datetime.date(2018, 6, 13),\n",
      "  'We made silly faces in front of the White House'),\n",
      " (datetime.date(2018, 6, 21),\n",
      "  'Guest sang at a Voices of Gotham barbershop rehearsal'),\n",
      " (datetime.date(2018, 7, 8), 'Matt lost his phone in the river :('),\n",
      " (datetime.date(2018, 7, 21),\n",
      "  'Bumping into Jeff and Sharon on the streets of SF'),\n",
      " (datetime.date(2018, 7, 27),\n",
      "  'Matt finished his first journal, started a new one'),\n",
      " (datetime.date(2018, 8, 2),\n",
      "  'We learned the hard way that Google Maps has an option \"avoid ferries\"'),\n",
      " (datetime.date(2018, 8, 2), 'A rock struck the windshield and cracked it')]\n"
     ]
    }
   ],
   "source": [
    "from main import *  # this must go first in order to trigger the computation\n",
    "from map \n",
    "\n",
    "# Feature tables\n",
    "\n",
    "# pprint(sorted(summary_sleep))\n",
    "# pprint(sorted(summary_friend))\n",
    "# pprint(sorted([(collapse_date_ranges(v), k) for k, v in summary_state.iteritems()]))\n",
    "# pprint(sorted([(collapse_date_ranges(v), k) for k, v in summary_park.iteritems()]))\n",
    "# pprint(summary_superlative_city)\n",
    "# pprint(summary_superlative_nature)\n",
    "# pprint(sorted(summary_animal))\n",
    "# pprint(summary_got_high)\n",
    "# pprint(summary_swim)\n",
    "# pprint(summary_extreme_nsew)\n",
    "# pprint(summary_facebook)\n",
    "# pprint(summary_meal)\n",
    "# pprint(summary_pie)\n",
    "# pprint(summary_tiki)\n",
    "# pprint(summary_wedding)\n",
    "# pprint(sorted([(collapse_date_ranges(v), k) for k, v in summary_cave.iteritems()]))\n",
    "# pprint(summary_elevation)\n",
    "# pprint(summary_temperature)\n",
    "# pprint(summary_other)\n",
    "\n",
    "m"
   ]
  },
  {
   "cell_type": "code",
   "execution_count": null,
   "metadata": {},
   "outputs": [],
   "source": []
  },
  {
   "cell_type": "code",
   "execution_count": null,
   "metadata": {},
   "outputs": [],
   "source": []
  }
 ],
 "metadata": {
  "kernelspec": {
   "display_name": "Python 2",
   "language": "python",
   "name": "python2"
  },
  "language_info": {
   "codemirror_mode": {
    "name": "ipython",
    "version": 2
   },
   "file_extension": ".py",
   "mimetype": "text/x-python",
   "name": "python",
   "nbconvert_exporter": "python",
   "pygments_lexer": "ipython2",
   "version": "2.7.10"
  }
 },
 "nbformat": 4,
 "nbformat_minor": 2
}
