{
 "cells": [
  {
   "cell_type": "code",
   "execution_count": null,
   "metadata": {
    "scrolled": false
   },
   "outputs": [],
   "source": [
    "from main import *  # main must be imported in order to trigger the computation\n",
    "from map import m\n",
    "\n",
    "# Feature tables\n",
    "\n",
    "# pprint(sorted(summary_sleep))\n",
    "# pprint(sorted(summary_friend))\n",
    "# pprint(sorted([(collapse_date_ranges(v), k) for k, v in summary_state.iteritems()]))\n",
    "# pprint(sorted([(collapse_date_ranges(v), k) for k, v in summary_park.iteritems()]))\n",
    "# pprint(summary_superlative_city)\n",
    "# pprint(summary_superlative_nature)\n",
    "# pprint(sorted(summary_animal))\n",
    "# pprint(summary_got_high)\n",
    "# pprint(summary_swim)\n",
    "# pprint(summary_extreme_nsew)\n",
    "# pprint(summary_facebook)\n",
    "# pprint(summary_meal)\n",
    "# pprint(summary_pie)\n",
    "# pprint(summary_tiki)\n",
    "# pprint(summary_wedding)\n",
    "# pprint(sorted([(collapse_date_ranges(v), k) for k, v in summary_cave.iteritems()]))\n",
    "# pprint(summary_elevation)\n",
    "# pprint(summary_temperature)\n",
    "# pprint(summary_other)\n",
    "\n",
    "m"
   ]
  }
 ],
 "metadata": {
  "kernelspec": {
   "display_name": "Python 2",
   "language": "python",
   "name": "python2"
  },
  "language_info": {
   "codemirror_mode": {
    "name": "ipython",
    "version": 2
   },
   "file_extension": ".py",
   "mimetype": "text/x-python",
   "name": "python",
   "nbconvert_exporter": "python",
   "pygments_lexer": "ipython2",
   "version": "2.7.10"
  }
 },
 "nbformat": 4,
 "nbformat_minor": 2
}
