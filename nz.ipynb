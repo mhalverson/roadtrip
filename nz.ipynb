{
 "cells": [
  {
   "cell_type": "code",
   "execution_count": 1,
   "metadata": {},
   "outputs": [],
   "source": [
    "from roadtrip.nz.main import *  # main must be imported in order to trigger the computation\n",
    "from roadtrip.nz.map import m\n",
    "\n",
    "# Feature tables\n",
    "\n",
    "# pprint(summary_sleep)\n",
    "# pprint(sorted(summary_friend))\n",
    "# pprint(sorted(summary_animal))\n",
    "# pprint(summary_got_high)\n",
    "# pprint(summary_extreme_nsew)\n",
    "# pprint(summary_facebook)\n",
    "# pprint(summary_meal)\n",
    "# pprint(summary_pie)\n",
    "# pprint(summary_other)\n",
    "\n",
    "# pprint(executive_summary)\n",
    "\n",
    "# uncomment the following to see the interactive map in all its glory!\n",
    "# m"
   ]
  }
 ],
 "metadata": {
  "kernelspec": {
   "display_name": "Python 2",
   "language": "python",
   "name": "python2"
  },
  "language_info": {
   "codemirror_mode": {
    "name": "ipython",
    "version": 2
   },
   "file_extension": ".py",
   "mimetype": "text/x-python",
   "name": "python",
   "nbconvert_exporter": "python",
   "pygments_lexer": "ipython2",
   "version": "2.7.10"
  }
 },
 "nbformat": 4,
 "nbformat_minor": 2
}
