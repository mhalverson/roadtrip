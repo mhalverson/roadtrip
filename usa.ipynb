{
 "cells": [
  {
   "cell_type": "code",
   "execution_count": 1,
   "metadata": {
    "scrolled": true
   },
   "outputs": [
    {
     "name": "stdout",
     "output_type": "stream",
     "text": [
      "[('Total days on the road', '182'),\n",
      " ('Days of camping', '69'),\n",
      " ('Days in cities', '113'),\n",
      " ('Total miles of driving', '19913'),\n",
      " ('Total hours of driving', '365.75'),\n",
      " ('Longest driving day', '640 miles / 9.25 hours'),\n",
      " ('Number of car accidents', '0'),\n",
      " ('Number of hospital visits', '0'),\n",
      " ('Number of thefts', '0'),\n",
      " ('Number of states visited', '38'),\n",
      " ('Number of national parks visited', '30'),\n",
      " ('Highest elevation',\n",
      "  '12183 ft/3713 m on 2018-09-24 on Trail Ridge Road Summit in Rocky Mountain NP'),\n",
      " ('Lowest elevation', '-236 ft/-71 m on 2018-10-15 at the Salton Sea'),\n",
      " ('Highest temperature', '100F/38C on 2018-05-05 in Tucson'),\n",
      " ('Lowest temperature', '25F/-4C on 2018-10-08 in Grand Canyon NP'),\n",
      " ('Favourite city', 'Chicago for Claire, DC for Matt'),\n",
      " ('Least favourite city', 'Dallas for Claire, Augusta for Matt'),\n",
      " ('Favourite nature', 'Olympic NP for Claire, Glacier NP for Matt'),\n",
      " ('Least favourite nature', 'Congaree NP for both of us'),\n",
      " ('Number of flights', '10'),\n",
      " ('Books read', 'Iron Druid Chronicles #1: Hounded by Kevin Hearne'),\n",
      " ('', 'Iron Druid Chronicles #2: Hexed by Kevin Hearne'),\n",
      " ('', 'Iron Druid Chronicles #3: Hammered by Kevin Hearne'),\n",
      " ('', 'Iron Druid Chronicles #4: Tricked by Kevin Hearne'),\n",
      " ('', 'Iron Druid Chronicles #5: Trapped by Kevin Hearne'),\n",
      " ('', 'Iron Druid Chronicles #6: Hunted by Kevin Hearne'),\n",
      " ('', 'Iron Druid Chronicles #7: Shattered by Kevin Hearne'),\n",
      " ('', 'Iron Druid Chronicles #8: Staked by Kevin Hearne'),\n",
      " ('', 'Iron Druid Chronicles #8.5: Besieged by Kevin Hearne'),\n",
      " ('', 'Iron Druid Chronicles #9: Scourged by Kevin Hearne'),\n",
      " ('', \"Man's Search for Meaning by Viktor Frankl\"),\n",
      " ('', 'The Lost City of Z by David Grann'),\n",
      " ('', 'The Slow Regard of Silent Things by Patrick Rothfuss'),\n",
      " ('', 'Red Rising by Pierce Brown'),\n",
      " ('', 'Golden Son by Pierce Brown'),\n",
      " ('', 'Morning Star by Pierce Brown'),\n",
      " ('', 'Iron Gold by Pierce Brown'),\n",
      " ('', \"The Great War for New Zealand by Vincent O'Malley\"),\n",
      " ('', 'Blood Meridian by Cormac McCarthy'),\n",
      " ('', 'The Luminaries by Eleanor Catton')]\n"
     ]
    }
   ],
   "source": [
    "from roadtrip.usa.main import *  # main must be imported in order to trigger the computation\n",
    "from roadtrip.usa.map import m\n",
    "\n",
    "# Feature tables\n",
    "\n",
    "# pprint(summary_sleep)\n",
    "# pprint(sorted(summary_friend))\n",
    "# pprint(summary_state)\n",
    "# pprint(sorted([(collapse_date_ranges(v), k) for k, v in summary_park.iteritems()]))\n",
    "# pprint(sorted(summary_animal))\n",
    "# pprint(summary_got_high)\n",
    "# pprint(summary_extreme_nsew)\n",
    "# pprint(summary_facebook)\n",
    "# pprint(summary_meal)\n",
    "# pprint(summary_pie)\n",
    "# pprint(summary_tiki)\n",
    "# pprint(summary_wedding)\n",
    "# pprint(summary_other)\n",
    "\n",
    "pprint(executive_summary)\n",
    "\n",
    "# uncomment the following to see the interactive map in all its glory!\n",
    "# m"
   ]
  },
  {
   "cell_type": "code",
   "execution_count": null,
   "metadata": {},
   "outputs": [],
   "source": []
  }
 ],
 "metadata": {
  "kernelspec": {
   "display_name": "Python 2",
   "language": "python",
   "name": "python2"
  },
  "language_info": {
   "codemirror_mode": {
    "name": "ipython",
    "version": 2
   },
   "file_extension": ".py",
   "mimetype": "text/x-python",
   "name": "python",
   "nbconvert_exporter": "python",
   "pygments_lexer": "ipython2",
   "version": "2.7.10"
  }
 },
 "nbformat": 4,
 "nbformat_minor": 2
}
